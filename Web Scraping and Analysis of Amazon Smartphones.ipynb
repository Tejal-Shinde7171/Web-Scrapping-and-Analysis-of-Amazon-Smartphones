{
 "cells": [
  {
   "cell_type": "markdown",
   "id": "bf560cb5",
   "metadata": {},
   "source": [
    "# WEB SCRAPPING & ANALYSIS OF AMAZON SMARTPHONES  \n"
   ]
  },
  {
   "cell_type": "markdown",
   "id": "17634067",
   "metadata": {},
   "source": [
    "<img src=\"https://www.webharvy.com/images/amazon-scraping.png\">"
   ]
  },
  {
   "cell_type": "markdown",
   "id": "71dc2398",
   "metadata": {},
   "source": [
    "## INTRODUCTION:\n",
    "### Executed a web scraping project on Amazon to collect data on smartphones under 20,000 INR. Extracted details such as mobile prices, descriptions, ratings, number of ratings, original prices, and discounted prices. Compiled the data into a structured dataset and conducted a detailed exploratory analysis to uncover trends and insights in the smartphone market.\n",
    "### Amazon web scraping involves extracting data from Amazon's website using automated tools or scripts. Here's a brief overview of how it works and some important considerations:\n",
    "## Tools and Libraries:\n",
    "   #### 1.BeautifulSoup: A Python library for parsing HTML and XML documents. It creates parse trees that help extract data easily.\n",
    "   #### 2.Requests: A simple HTTP library for Python, making it easy to send HTTP requests\n"
   ]
  },
  {
   "cell_type": "markdown",
   "id": "a2ea1b58",
   "metadata": {},
   "source": [
    "<img src=\"https://www.amarinfotech.com/wp-content/uploads/2020/04/Web-Scraping.jpg\">"
   ]
  },
  {
   "cell_type": "markdown",
   "id": "4bfd4662",
   "metadata": {},
   "source": [
    "## - Import Requests Library"
   ]
  },
  {
   "cell_type": "code",
   "execution_count": 5,
   "id": "9bbb7d93",
   "metadata": {},
   "outputs": [],
   "source": [
    "import requests"
   ]
  },
  {
   "cell_type": "markdown",
   "id": "0421bf59",
   "metadata": {},
   "source": [
    "## -Import Beautifulsoup Library."
   ]
  },
  {
   "cell_type": "markdown",
   "id": "057e0f5e",
   "metadata": {},
   "source": [
    "<img src=\"https://media.licdn.com/dms/image/D4D12AQGeRZCojr1rMA/article-cover_image-shrink_720_1280/0/1708598369630?e=2147483647&v=beta&t=T737I1Mo7M-3MXHf_rKo3xx-9OlxsdHP-OXMzTs6KU8\">"
   ]
  },
  {
   "cell_type": "code",
   "execution_count": 6,
   "id": "be1d4e44",
   "metadata": {},
   "outputs": [],
   "source": [
    "from bs4 import BeautifulSoup"
   ]
  },
  {
   "cell_type": "code",
   "execution_count": 7,
   "id": "53f8c360",
   "metadata": {},
   "outputs": [],
   "source": [
    "headers={\"User-Agent\": \"Mozilla/5.0 (Windows NT 10.0; Win64; x64) AppleWebKit/537.36 (KHTML, like Gecko) Chrome/125.0.0.0 Safari/537.36\"}\n",
    "url=\"https://www.amazon.in/smartphones-under-20000/s?k=smartphones+under+20000\""
   ]
  },
  {
   "cell_type": "code",
   "execution_count": 8,
   "id": "270c7efe",
   "metadata": {},
   "outputs": [
    {
     "name": "stdout",
     "output_type": "stream",
     "text": [
      "<Response [200]>\n"
     ]
    }
   ],
   "source": [
    "req=requests.get(url,headers=headers)\n",
    "print(req)"
   ]
  },
  {
   "cell_type": "code",
   "execution_count": 9,
   "id": "67fb7566",
   "metadata": {},
   "outputs": [],
   "source": [
    "html_content=req.content"
   ]
  },
  {
   "cell_type": "code",
   "execution_count": 10,
   "id": "c1f1b99d",
   "metadata": {},
   "outputs": [],
   "source": [
    "# print(html_content)"
   ]
  },
  {
   "cell_type": "code",
   "execution_count": 11,
   "id": "9bcf03d6",
   "metadata": {},
   "outputs": [
    {
     "name": "stdout",
     "output_type": "stream",
     "text": [
      "<Response [200]>\n"
     ]
    }
   ],
   "source": [
    "soup=BeautifulSoup(req.content,\"html.parser\")\n",
    "print(req)"
   ]
  },
  {
   "cell_type": "markdown",
   "id": "504e0df8",
   "metadata": {},
   "source": [
    "<img erc=\"https://i.ytimg.com/vi/G9D4wQKI1wc/maxresdefault.jpg\">"
   ]
  },
  {
   "cell_type": "markdown",
   "id": "2fb84a27",
   "metadata": {},
   "source": [
    "<img src=\"https://miro.medium.com/v2/resize:fit:1400/1*LhyDelFNvzAqMd8edX1E8Q.png\">"
   ]
  },
  {
   "cell_type": "markdown",
   "id": "f6483486",
   "metadata": {},
   "source": [
    "### 1. PRICE"
   ]
  },
  {
   "cell_type": "code",
   "execution_count": 23,
   "id": "7fd5caa4",
   "metadata": {},
   "outputs": [
    {
     "name": "stdout",
     "output_type": "stream",
     "text": [
      "#1 26,999\n",
      "#2 19,999\n",
      "#3 17,000\n",
      "#4 19,999\n",
      "#5 19,621\n",
      "#6 18,248\n",
      "#7 17,490\n",
      "#8 12,999\n",
      "#9 17,749\n",
      "#10 12,435\n",
      "#11 19,269\n",
      "#12 19,998\n",
      "#13 14,399\n",
      "#14 16,299\n",
      "#15 6,999\n",
      "Total mobile prices listed: 15\n"
     ]
    }
   ],
   "source": [
    "mob_prices = soup.findAll(\"span\", class_=\"a-price-whole\")\n",
    "mob_prices_list = [l.text for l in mob_prices]\n",
    "\n",
    "# Slice the list to get only the first 21 prices\n",
    "mob_prices_list = mob_prices_list[:21]\n",
    "\n",
    "# Print the 21 mobile prices\n",
    "for i, mp in enumerate(mob_prices_list, start=1):\n",
    "    print(f\"#{i} {mp}\")\n",
    "\n",
    "# Verify the length\n",
    "print(f\"Total mobile prices listed: {len(mob_prices_list)}\")\n"
   ]
  },
  {
   "cell_type": "markdown",
   "id": "7d7be447",
   "metadata": {},
   "source": [
    "### 2. DESCRIPTION"
   ]
  },
  {
   "cell_type": "code",
   "execution_count": 24,
   "id": "a8b6c6ad",
   "metadata": {
    "scrolled": true
   },
   "outputs": [],
   "source": [
    "#mob_descriptions=soup.findAll(\"span\", class_=\"a-size-medium a-color-base a-text-normal\")\n",
    "# print(mob_descriptions)\n",
    "#mob_description_list=[l.text for l in mob_descriptions]\n",
    "#i = 1\n",
    "#for md in mob_description_list:\n",
    "#print(f\"#{i}\\n{md}\\n\")\n",
    "#i += 1\n",
    "#len(mob_descriptions)"
   ]
  },
  {
   "cell_type": "code",
   "execution_count": 34,
   "id": "21184879",
   "metadata": {},
   "outputs": [
    {
     "name": "stdout",
     "output_type": "stream",
     "text": [
      "#1\n",
      "Redmi note 13 pro 5g scarlet red 8gb 256gb\n",
      "\n",
      "#2\n",
      "OnePlus Nord CE4 Lite 5G (Super Silver, 8GB RAM, 128GB Storage)\n",
      "\n",
      "#3\n",
      "realme 12 5G (Woodland Green, 8GB RAM 128 GB Storage) | 108 MP 3X Zoom Portrait Camera | Trendy Watch Design | 45 W SUPERVOOC Charge | 5000 mAh Massive Battery | Dual Stereo Speakers | Dynamic Button\n",
      "\n",
      "#4\n",
      "OnePlus Nord CE4 Lite 5G (Mega Blue, 8GB RAM, 128GB Storage)\n",
      "\n",
      "#5\n",
      "OnePlus Nord CE 3 Lite 5G (Chromatic Gray, 8GB RAM, 256GB Storage)\n",
      "\n",
      "#6\n",
      "OnePlus Nord CE 3 Lite 5G (Chromatic Gray, 8GB RAM, 128GB Storage)\n",
      "\n",
      "#7\n",
      "Motorola g64 5G (Pearl Blue, 256 GB) (12 GB RAM)\n",
      "\n",
      "#8\n",
      "Samsung Galaxy M34 5G (Waterfall Blue,6GB,128GB)|120Hz sAMOLED Display|50MP Triple No Shake Cam|6000 mAh Battery|4 Gen OS Upgrade & 5 Year Security Update|12GB RAM with RAM+|Android 13|Without Charger\n",
      "\n",
      "#9\n",
      "OnePlus Nord CE 3 Lite 5G (Pastel Lime, 8GB RAM, 128GB Storage)\n",
      "\n",
      "#10\n",
      "Motorola G34 5G (Charcoal Black, 8GB RAM, 128GB Storage)\n",
      "\n",
      "#11\n",
      "Redmi 13C (Stardust Black, 6GB RAM, 128GB Storage) | Powered by 4G MediaTek Helio G85 | 90Hz Display | 50MP AI Triple Camera\n",
      "\n",
      "#12\n",
      "OnePlus Nord CE 3 Lite 5G (Pastel Lime, 8GB RAM, 256GB Storage)\n",
      "\n",
      "#13\n",
      "POCO X6 5G (Snowstorm White, 12 GB RAM 256 GB Storage)\n",
      "\n",
      "#14\n",
      "Samsung Galaxy F15 5G (Ash Black, 6GB RAM, 128 GB Storage)\n",
      "\n",
      "#15\n",
      "Redmi Note 13 5G (Arctic White, 8GB RAM, 256GB Storage) | 5G Ready | 120Hz Bezel-less AMOLED | 7.mm Slimmest Note Ever | 108MP Pro-grade Camera\n",
      "\n",
      "Total mobile descriptions listed: 15\n"
     ]
    }
   ],
   "source": [
    "mob_descriptions = soup.findAll(\"span\", class_=\"a-size-medium a-color-base a-text-normal\")\n",
    "mob_description_list = [l.text for l in mob_descriptions]\n",
    "\n",
    "# Slice the list to get only the first 15 descriptions\n",
    "mob_description_list = mob_description_list[:15]\n",
    "\n",
    "# Print the 15 mobile descriptions\n",
    "for i, md in enumerate(mob_description_list, start=1):\n",
    "    print(f\"#{i}\\n{md}\\n\")\n",
    "\n",
    "# Verify the length\n",
    "print(f\"Total mobile descriptions listed: {len(mob_description_list)}\")"
   ]
  },
  {
   "cell_type": "markdown",
   "id": "c5c7cf21",
   "metadata": {},
   "source": [
    "### 3. RATING"
   ]
  },
  {
   "cell_type": "code",
   "execution_count": 36,
   "id": "41fdf6a7",
   "metadata": {},
   "outputs": [
    {
     "name": "stdout",
     "output_type": "stream",
     "text": [
      "#1 4.5 out of 5 stars.\n",
      "#2 5.0 out of 5 stars\n",
      "#3 4.2 out of 5 stars\n",
      "#4 4.2 out of 5 stars\n",
      "#5 4.2 out of 5 stars\n",
      "#6 3.3 out of 5 stars\n",
      "#7 4.0 out of 5 stars\n",
      "#8 4.2 out of 5 stars\n",
      "#9 3.8 out of 5 stars\n",
      "#10 4.1 out of 5 stars\n",
      "#11 4.1 out of 5 stars\n",
      "#12 4.0 out of 5 stars\n",
      "#13 3.8 out of 5 stars\n",
      "#14 3.6 out of 5 stars\n",
      "#15 4.7 out of 5 stars\n",
      "Total mobile ratings listed: 15\n"
     ]
    }
   ],
   "source": [
    "mob_rating = soup.findAll(\"span\", class_=\"a-icon-alt\")\n",
    "mob_rating_list = [l.text for l in mob_rating]\n",
    "\n",
    "# Remove the last element\n",
    "mob_rating_list.pop()\n",
    "\n",
    "# Slice the list to get only the first 15 ratings\n",
    "mob_rating_list = mob_rating_list[:15]\n",
    "\n",
    "# Print the 15 mobile ratings\n",
    "for i, mr in enumerate(mob_rating_list, start=1):\n",
    "    print(f\"#{i} {mr}\")\n",
    "\n",
    "# Verify the length\n",
    "print(f\"Total mobile ratings listed: {len(mob_rating_list)}\")"
   ]
  },
  {
   "cell_type": "markdown",
   "id": "066aabbd",
   "metadata": {},
   "source": [
    "### 4. NO OF RATINGS"
   ]
  },
  {
   "cell_type": "code",
   "execution_count": 37,
   "id": "8a2cf78d",
   "metadata": {},
   "outputs": [
    {
     "name": "stdout",
     "output_type": "stream",
     "text": [
      "#1 2\n",
      "#2 85\n",
      "#3 47,280\n",
      "#4 47,280\n",
      "#5 12\n",
      "#6 3,428\n",
      "#7 47,280\n",
      "#8 138\n",
      "#9 5,214\n",
      "#10 6,365\n",
      "#11 305\n",
      "#12 61\n",
      "#13 536\n",
      "#14 11\n",
      "#15 803\n"
     ]
    },
    {
     "data": {
      "text/plain": [
       "15"
      ]
     },
     "execution_count": 37,
     "metadata": {},
     "output_type": "execute_result"
    }
   ],
   "source": [
    "mob_rating_count=soup.findAll(\"span\", class_=\"a-size-base s-underline-text\")\n",
    "# print(mob_rating_count)\n",
    "mob_rating_count_list=[l.text for l in mob_rating_count]\n",
    "\n",
    "i=1\n",
    "for nor in mob_rating_count_list:\n",
    "    print(f\"#{i}\",nor)\n",
    "    i += 1\n",
    "    \n",
    "len(mob_rating_count)"
   ]
  },
  {
   "cell_type": "markdown",
   "id": "70463761",
   "metadata": {},
   "source": [
    "### 5. ORIGINAL PRICE"
   ]
  },
  {
   "cell_type": "code",
   "execution_count": 39,
   "id": "f8048adc",
   "metadata": {},
   "outputs": [
    {
     "name": "stdout",
     "output_type": "stream",
     "text": [
      "#1 26,999\n",
      "#2 19,999\n",
      "#3 17,000\n",
      "#4 19,999\n",
      "#5 19,621\n",
      "#6 18,248\n",
      "#7 17,490\n",
      "#8 12,999\n",
      "#9 17,749\n",
      "#10 12,435\n",
      "#11 19,269\n",
      "#12 19,998\n",
      "#13 14,399\n",
      "#14 16,299\n",
      "#15 6,999\n",
      "Total original prices listed: 15\n"
     ]
    }
   ],
   "source": [
    "\n",
    "mob_original_price = soup.findAll(\"span\", class_=\"a-price-whole\")\n",
    "\n",
    "# Extract text from the elements and clean it up\n",
    "mob_original_price_list = [l.text.strip() for l in mob_original_price if l.text.strip()]\n",
    "\n",
    "# Slice the list to get only the first 21 original prices\n",
    "mob_original_price_list = mob_original_price_list[:21]\n",
    "\n",
    "# Print the 21 original prices\n",
    "for i, op in enumerate(mob_original_price_list, start=1):\n",
    "    print(f\"#{i} {op}\")\n",
    "\n",
    "# Verify the length\n",
    "print(f\"Total original prices listed: {len(mob_original_price_list)}\")\n"
   ]
  },
  {
   "cell_type": "markdown",
   "id": "786e6762",
   "metadata": {},
   "source": [
    "## IMPORT NECESSARY LIBRARIES"
   ]
  },
  {
   "cell_type": "markdown",
   "id": "350e1398",
   "metadata": {},
   "source": [
    "<img src=\"https://miro.medium.com/v2/resize:fit:1400/1*3GbLagVDPY9QKjjgB_Tfqw.png\">"
   ]
  },
  {
   "cell_type": "code",
   "execution_count": 40,
   "id": "a38417a0",
   "metadata": {},
   "outputs": [],
   "source": [
    "import pandas as pd"
   ]
  },
  {
   "cell_type": "code",
   "execution_count": 41,
   "id": "1eeb8433",
   "metadata": {},
   "outputs": [],
   "source": [
    "mob={\"mob_prices_list\": mob_prices_list,\n",
    "    \"mob_description_list\": mob_description_list,\n",
    "    \"mob_rating_list\": mob_rating_list,\n",
    "    \"mob_rating_count_list\":mob_rating_count_list,\n",
    "    \"mob_original_price_list\": mob_original_price_list,\n",
    "}"
   ]
  },
  {
   "cell_type": "code",
   "execution_count": 42,
   "id": "7b35060f",
   "metadata": {},
   "outputs": [
    {
     "name": "stdout",
     "output_type": "stream",
     "text": [
      "{'mob_prices_list': ['26,999', '19,999', '17,000', '19,999', '19,621', '18,248', '17,490', '12,999', '17,749', '12,435', '19,269', '19,998', '14,399', '16,299', '6,999'], 'mob_description_list': ['Redmi note 13 pro 5g scarlet red 8gb 256gb', 'OnePlus Nord CE4 Lite 5G (Super Silver, 8GB RAM, 128GB Storage)', 'realme 12 5G (Woodland Green, 8GB RAM 128 GB Storage) | 108 MP 3X Zoom Portrait Camera | Trendy Watch Design | 45 W SUPERVOOC Charge | 5000 mAh Massive Battery | Dual Stereo Speakers | Dynamic Button', 'OnePlus Nord CE4 Lite 5G (Mega Blue, 8GB RAM, 128GB Storage)', 'OnePlus Nord CE 3 Lite 5G (Chromatic Gray, 8GB RAM, 256GB Storage)', 'OnePlus Nord CE 3 Lite 5G (Chromatic Gray, 8GB RAM, 128GB Storage)', 'Motorola g64 5G (Pearl Blue, 256 GB) (12 GB RAM)', 'Samsung Galaxy M34 5G (Waterfall Blue,6GB,128GB)|120Hz sAMOLED Display|50MP Triple No Shake Cam|6000 mAh Battery|4 Gen OS Upgrade & 5 Year Security Update|12GB RAM with RAM+|Android 13|Without Charger', 'OnePlus Nord CE 3 Lite 5G (Pastel Lime, 8GB RAM, 128GB Storage)', 'Motorola G34 5G (Charcoal Black, 8GB RAM, 128GB Storage)', 'Redmi 13C (Stardust Black, 6GB RAM, 128GB Storage) | Powered by 4G MediaTek Helio G85 | 90Hz Display | 50MP AI Triple Camera', 'OnePlus Nord CE 3 Lite 5G (Pastel Lime, 8GB RAM, 256GB Storage)', 'POCO X6 5G (Snowstorm White, 12 GB RAM 256 GB Storage)', 'Samsung Galaxy F15 5G (Ash Black, 6GB RAM, 128 GB Storage)', 'Redmi Note 13 5G (Arctic White, 8GB RAM, 256GB Storage) | 5G Ready | 120Hz Bezel-less AMOLED | 7.mm Slimmest Note Ever | 108MP Pro-grade Camera'], 'mob_rating_list': ['4.5 out of 5 stars.', '5.0 out of 5 stars', '4.2 out of 5 stars', '4.2 out of 5 stars', '4.2 out of 5 stars', '3.3 out of 5 stars', '4.0 out of 5 stars', '4.2 out of 5 stars', '3.8 out of 5 stars', '4.1 out of 5 stars', '4.1 out of 5 stars', '4.0 out of 5 stars', '3.8 out of 5 stars', '3.6 out of 5 stars', '4.7 out of 5 stars'], 'mob_rating_count_list': ['2', '85', '47,280', '47,280', '12', '3,428', '47,280', '138', '5,214', '6,365', '305', '61', '536', '11', '803'], 'mob_original_price_list': ['26,999', '19,999', '17,000', '19,999', '19,621', '18,248', '17,490', '12,999', '17,749', '12,435', '19,269', '19,998', '14,399', '16,299', '6,999']}\n"
     ]
    }
   ],
   "source": [
    "print(mob)"
   ]
  },
  {
   "cell_type": "code",
   "execution_count": 43,
   "id": "fdc71ab3",
   "metadata": {},
   "outputs": [
    {
     "name": "stdout",
     "output_type": "stream",
     "text": [
      "The length of mob_prices_list is 15\n",
      "The length of mob_description_list is 15\n",
      "The length of mob_rating_list is 15\n",
      "The length of mob_rating_count_list is 15\n",
      "The length of mob_original_price_list is 15\n"
     ]
    }
   ],
   "source": [
    "mob = {\n",
    "    \"mob_prices_list\": mob_prices_list,\n",
    "    \"mob_description_list\": mob_description_list,\n",
    "    \"mob_rating_list\": mob_rating_list,\n",
    "    \"mob_rating_count_list\":mob_rating_count_list,\n",
    "    \"mob_original_price_list\": mob_original_price_list,\n",
    "}\n",
    "\n",
    "for key, value in mob.items():\n",
    "    print(f\"The length of {key} is {len(value)}\")\n"
   ]
  },
  {
   "cell_type": "markdown",
   "id": "85b0f403",
   "metadata": {},
   "source": [
    "## AMAZON WEB SCRAPPING TO CREATE A DATAFRAME"
   ]
  },
  {
   "cell_type": "code",
   "execution_count": 44,
   "id": "c9f9052c",
   "metadata": {},
   "outputs": [],
   "source": [
    "df=pd.DataFrame(mob)"
   ]
  },
  {
   "cell_type": "code",
   "execution_count": 45,
   "id": "d536289c",
   "metadata": {},
   "outputs": [
    {
     "data": {
      "text/html": [
       "<div>\n",
       "<style scoped>\n",
       "    .dataframe tbody tr th:only-of-type {\n",
       "        vertical-align: middle;\n",
       "    }\n",
       "\n",
       "    .dataframe tbody tr th {\n",
       "        vertical-align: top;\n",
       "    }\n",
       "\n",
       "    .dataframe thead th {\n",
       "        text-align: right;\n",
       "    }\n",
       "</style>\n",
       "<table border=\"1\" class=\"dataframe\">\n",
       "  <thead>\n",
       "    <tr style=\"text-align: right;\">\n",
       "      <th></th>\n",
       "      <th>mob_prices_list</th>\n",
       "      <th>mob_description_list</th>\n",
       "      <th>mob_rating_list</th>\n",
       "      <th>mob_rating_count_list</th>\n",
       "      <th>mob_original_price_list</th>\n",
       "    </tr>\n",
       "  </thead>\n",
       "  <tbody>\n",
       "    <tr>\n",
       "      <th>0</th>\n",
       "      <td>26,999</td>\n",
       "      <td>Redmi note 13 pro 5g scarlet red 8gb 256gb</td>\n",
       "      <td>4.5 out of 5 stars.</td>\n",
       "      <td>2</td>\n",
       "      <td>26,999</td>\n",
       "    </tr>\n",
       "    <tr>\n",
       "      <th>1</th>\n",
       "      <td>19,999</td>\n",
       "      <td>OnePlus Nord CE4 Lite 5G (Super Silver, 8GB RA...</td>\n",
       "      <td>5.0 out of 5 stars</td>\n",
       "      <td>85</td>\n",
       "      <td>19,999</td>\n",
       "    </tr>\n",
       "    <tr>\n",
       "      <th>2</th>\n",
       "      <td>17,000</td>\n",
       "      <td>realme 12 5G (Woodland Green, 8GB RAM 128 GB S...</td>\n",
       "      <td>4.2 out of 5 stars</td>\n",
       "      <td>47,280</td>\n",
       "      <td>17,000</td>\n",
       "    </tr>\n",
       "    <tr>\n",
       "      <th>3</th>\n",
       "      <td>19,999</td>\n",
       "      <td>OnePlus Nord CE4 Lite 5G (Mega Blue, 8GB RAM, ...</td>\n",
       "      <td>4.2 out of 5 stars</td>\n",
       "      <td>47,280</td>\n",
       "      <td>19,999</td>\n",
       "    </tr>\n",
       "    <tr>\n",
       "      <th>4</th>\n",
       "      <td>19,621</td>\n",
       "      <td>OnePlus Nord CE 3 Lite 5G (Chromatic Gray, 8GB...</td>\n",
       "      <td>4.2 out of 5 stars</td>\n",
       "      <td>12</td>\n",
       "      <td>19,621</td>\n",
       "    </tr>\n",
       "    <tr>\n",
       "      <th>5</th>\n",
       "      <td>18,248</td>\n",
       "      <td>OnePlus Nord CE 3 Lite 5G (Chromatic Gray, 8GB...</td>\n",
       "      <td>3.3 out of 5 stars</td>\n",
       "      <td>3,428</td>\n",
       "      <td>18,248</td>\n",
       "    </tr>\n",
       "    <tr>\n",
       "      <th>6</th>\n",
       "      <td>17,490</td>\n",
       "      <td>Motorola g64 5G (Pearl Blue, 256 GB) (12 GB RAM)</td>\n",
       "      <td>4.0 out of 5 stars</td>\n",
       "      <td>47,280</td>\n",
       "      <td>17,490</td>\n",
       "    </tr>\n",
       "    <tr>\n",
       "      <th>7</th>\n",
       "      <td>12,999</td>\n",
       "      <td>Samsung Galaxy M34 5G (Waterfall Blue,6GB,128G...</td>\n",
       "      <td>4.2 out of 5 stars</td>\n",
       "      <td>138</td>\n",
       "      <td>12,999</td>\n",
       "    </tr>\n",
       "    <tr>\n",
       "      <th>8</th>\n",
       "      <td>17,749</td>\n",
       "      <td>OnePlus Nord CE 3 Lite 5G (Pastel Lime, 8GB RA...</td>\n",
       "      <td>3.8 out of 5 stars</td>\n",
       "      <td>5,214</td>\n",
       "      <td>17,749</td>\n",
       "    </tr>\n",
       "    <tr>\n",
       "      <th>9</th>\n",
       "      <td>12,435</td>\n",
       "      <td>Motorola G34 5G (Charcoal Black, 8GB RAM, 128G...</td>\n",
       "      <td>4.1 out of 5 stars</td>\n",
       "      <td>6,365</td>\n",
       "      <td>12,435</td>\n",
       "    </tr>\n",
       "    <tr>\n",
       "      <th>10</th>\n",
       "      <td>19,269</td>\n",
       "      <td>Redmi 13C (Stardust Black, 6GB RAM, 128GB Stor...</td>\n",
       "      <td>4.1 out of 5 stars</td>\n",
       "      <td>305</td>\n",
       "      <td>19,269</td>\n",
       "    </tr>\n",
       "    <tr>\n",
       "      <th>11</th>\n",
       "      <td>19,998</td>\n",
       "      <td>OnePlus Nord CE 3 Lite 5G (Pastel Lime, 8GB RA...</td>\n",
       "      <td>4.0 out of 5 stars</td>\n",
       "      <td>61</td>\n",
       "      <td>19,998</td>\n",
       "    </tr>\n",
       "    <tr>\n",
       "      <th>12</th>\n",
       "      <td>14,399</td>\n",
       "      <td>POCO X6 5G (Snowstorm White, 12 GB RAM 256 GB ...</td>\n",
       "      <td>3.8 out of 5 stars</td>\n",
       "      <td>536</td>\n",
       "      <td>14,399</td>\n",
       "    </tr>\n",
       "    <tr>\n",
       "      <th>13</th>\n",
       "      <td>16,299</td>\n",
       "      <td>Samsung Galaxy F15 5G (Ash Black, 6GB RAM, 128...</td>\n",
       "      <td>3.6 out of 5 stars</td>\n",
       "      <td>11</td>\n",
       "      <td>16,299</td>\n",
       "    </tr>\n",
       "    <tr>\n",
       "      <th>14</th>\n",
       "      <td>6,999</td>\n",
       "      <td>Redmi Note 13 5G (Arctic White, 8GB RAM, 256GB...</td>\n",
       "      <td>4.7 out of 5 stars</td>\n",
       "      <td>803</td>\n",
       "      <td>6,999</td>\n",
       "    </tr>\n",
       "  </tbody>\n",
       "</table>\n",
       "</div>"
      ],
      "text/plain": [
       "   mob_prices_list                               mob_description_list  \\\n",
       "0           26,999         Redmi note 13 pro 5g scarlet red 8gb 256gb   \n",
       "1           19,999  OnePlus Nord CE4 Lite 5G (Super Silver, 8GB RA...   \n",
       "2           17,000  realme 12 5G (Woodland Green, 8GB RAM 128 GB S...   \n",
       "3           19,999  OnePlus Nord CE4 Lite 5G (Mega Blue, 8GB RAM, ...   \n",
       "4           19,621  OnePlus Nord CE 3 Lite 5G (Chromatic Gray, 8GB...   \n",
       "5           18,248  OnePlus Nord CE 3 Lite 5G (Chromatic Gray, 8GB...   \n",
       "6           17,490   Motorola g64 5G (Pearl Blue, 256 GB) (12 GB RAM)   \n",
       "7           12,999  Samsung Galaxy M34 5G (Waterfall Blue,6GB,128G...   \n",
       "8           17,749  OnePlus Nord CE 3 Lite 5G (Pastel Lime, 8GB RA...   \n",
       "9           12,435  Motorola G34 5G (Charcoal Black, 8GB RAM, 128G...   \n",
       "10          19,269  Redmi 13C (Stardust Black, 6GB RAM, 128GB Stor...   \n",
       "11          19,998  OnePlus Nord CE 3 Lite 5G (Pastel Lime, 8GB RA...   \n",
       "12          14,399  POCO X6 5G (Snowstorm White, 12 GB RAM 256 GB ...   \n",
       "13          16,299  Samsung Galaxy F15 5G (Ash Black, 6GB RAM, 128...   \n",
       "14           6,999  Redmi Note 13 5G (Arctic White, 8GB RAM, 256GB...   \n",
       "\n",
       "        mob_rating_list mob_rating_count_list mob_original_price_list  \n",
       "0   4.5 out of 5 stars.                     2                  26,999  \n",
       "1    5.0 out of 5 stars                    85                  19,999  \n",
       "2    4.2 out of 5 stars                47,280                  17,000  \n",
       "3    4.2 out of 5 stars                47,280                  19,999  \n",
       "4    4.2 out of 5 stars                    12                  19,621  \n",
       "5    3.3 out of 5 stars                 3,428                  18,248  \n",
       "6    4.0 out of 5 stars                47,280                  17,490  \n",
       "7    4.2 out of 5 stars                   138                  12,999  \n",
       "8    3.8 out of 5 stars                 5,214                  17,749  \n",
       "9    4.1 out of 5 stars                 6,365                  12,435  \n",
       "10   4.1 out of 5 stars                   305                  19,269  \n",
       "11   4.0 out of 5 stars                    61                  19,998  \n",
       "12   3.8 out of 5 stars                   536                  14,399  \n",
       "13   3.6 out of 5 stars                    11                  16,299  \n",
       "14   4.7 out of 5 stars                   803                   6,999  "
      ]
     },
     "execution_count": 45,
     "metadata": {},
     "output_type": "execute_result"
    }
   ],
   "source": [
    "df"
   ]
  },
  {
   "cell_type": "markdown",
   "id": "461b9a6c",
   "metadata": {},
   "source": [
    "### 1.DISPLAY THE TOTAL NUMBER OF RECORDS IN THE DATASETS"
   ]
  },
  {
   "cell_type": "code",
   "execution_count": 46,
   "id": "006a28b9",
   "metadata": {},
   "outputs": [
    {
     "data": {
      "text/plain": [
       "mob_prices_list            15\n",
       "mob_description_list       15\n",
       "mob_rating_list            15\n",
       "mob_rating_count_list      15\n",
       "mob_original_price_list    15\n",
       "dtype: int64"
      ]
     },
     "execution_count": 46,
     "metadata": {},
     "output_type": "execute_result"
    }
   ],
   "source": [
    "df.count()"
   ]
  },
  {
   "cell_type": "markdown",
   "id": "0da937e8",
   "metadata": {},
   "source": [
    "### 2.DISPLAY THE FIRST 10 ROWS IN THE DATASETS"
   ]
  },
  {
   "cell_type": "code",
   "execution_count": 47,
   "id": "ee079f88",
   "metadata": {},
   "outputs": [
    {
     "data": {
      "text/html": [
       "<div>\n",
       "<style scoped>\n",
       "    .dataframe tbody tr th:only-of-type {\n",
       "        vertical-align: middle;\n",
       "    }\n",
       "\n",
       "    .dataframe tbody tr th {\n",
       "        vertical-align: top;\n",
       "    }\n",
       "\n",
       "    .dataframe thead th {\n",
       "        text-align: right;\n",
       "    }\n",
       "</style>\n",
       "<table border=\"1\" class=\"dataframe\">\n",
       "  <thead>\n",
       "    <tr style=\"text-align: right;\">\n",
       "      <th></th>\n",
       "      <th>mob_prices_list</th>\n",
       "      <th>mob_description_list</th>\n",
       "      <th>mob_rating_list</th>\n",
       "      <th>mob_rating_count_list</th>\n",
       "      <th>mob_original_price_list</th>\n",
       "    </tr>\n",
       "  </thead>\n",
       "  <tbody>\n",
       "    <tr>\n",
       "      <th>0</th>\n",
       "      <td>26,999</td>\n",
       "      <td>Redmi note 13 pro 5g scarlet red 8gb 256gb</td>\n",
       "      <td>4.5 out of 5 stars.</td>\n",
       "      <td>2</td>\n",
       "      <td>26,999</td>\n",
       "    </tr>\n",
       "    <tr>\n",
       "      <th>1</th>\n",
       "      <td>19,999</td>\n",
       "      <td>OnePlus Nord CE4 Lite 5G (Super Silver, 8GB RA...</td>\n",
       "      <td>5.0 out of 5 stars</td>\n",
       "      <td>85</td>\n",
       "      <td>19,999</td>\n",
       "    </tr>\n",
       "    <tr>\n",
       "      <th>2</th>\n",
       "      <td>17,000</td>\n",
       "      <td>realme 12 5G (Woodland Green, 8GB RAM 128 GB S...</td>\n",
       "      <td>4.2 out of 5 stars</td>\n",
       "      <td>47,280</td>\n",
       "      <td>17,000</td>\n",
       "    </tr>\n",
       "    <tr>\n",
       "      <th>3</th>\n",
       "      <td>19,999</td>\n",
       "      <td>OnePlus Nord CE4 Lite 5G (Mega Blue, 8GB RAM, ...</td>\n",
       "      <td>4.2 out of 5 stars</td>\n",
       "      <td>47,280</td>\n",
       "      <td>19,999</td>\n",
       "    </tr>\n",
       "    <tr>\n",
       "      <th>4</th>\n",
       "      <td>19,621</td>\n",
       "      <td>OnePlus Nord CE 3 Lite 5G (Chromatic Gray, 8GB...</td>\n",
       "      <td>4.2 out of 5 stars</td>\n",
       "      <td>12</td>\n",
       "      <td>19,621</td>\n",
       "    </tr>\n",
       "    <tr>\n",
       "      <th>5</th>\n",
       "      <td>18,248</td>\n",
       "      <td>OnePlus Nord CE 3 Lite 5G (Chromatic Gray, 8GB...</td>\n",
       "      <td>3.3 out of 5 stars</td>\n",
       "      <td>3,428</td>\n",
       "      <td>18,248</td>\n",
       "    </tr>\n",
       "    <tr>\n",
       "      <th>6</th>\n",
       "      <td>17,490</td>\n",
       "      <td>Motorola g64 5G (Pearl Blue, 256 GB) (12 GB RAM)</td>\n",
       "      <td>4.0 out of 5 stars</td>\n",
       "      <td>47,280</td>\n",
       "      <td>17,490</td>\n",
       "    </tr>\n",
       "    <tr>\n",
       "      <th>7</th>\n",
       "      <td>12,999</td>\n",
       "      <td>Samsung Galaxy M34 5G (Waterfall Blue,6GB,128G...</td>\n",
       "      <td>4.2 out of 5 stars</td>\n",
       "      <td>138</td>\n",
       "      <td>12,999</td>\n",
       "    </tr>\n",
       "    <tr>\n",
       "      <th>8</th>\n",
       "      <td>17,749</td>\n",
       "      <td>OnePlus Nord CE 3 Lite 5G (Pastel Lime, 8GB RA...</td>\n",
       "      <td>3.8 out of 5 stars</td>\n",
       "      <td>5,214</td>\n",
       "      <td>17,749</td>\n",
       "    </tr>\n",
       "    <tr>\n",
       "      <th>9</th>\n",
       "      <td>12,435</td>\n",
       "      <td>Motorola G34 5G (Charcoal Black, 8GB RAM, 128G...</td>\n",
       "      <td>4.1 out of 5 stars</td>\n",
       "      <td>6,365</td>\n",
       "      <td>12,435</td>\n",
       "    </tr>\n",
       "  </tbody>\n",
       "</table>\n",
       "</div>"
      ],
      "text/plain": [
       "  mob_prices_list                               mob_description_list  \\\n",
       "0          26,999         Redmi note 13 pro 5g scarlet red 8gb 256gb   \n",
       "1          19,999  OnePlus Nord CE4 Lite 5G (Super Silver, 8GB RA...   \n",
       "2          17,000  realme 12 5G (Woodland Green, 8GB RAM 128 GB S...   \n",
       "3          19,999  OnePlus Nord CE4 Lite 5G (Mega Blue, 8GB RAM, ...   \n",
       "4          19,621  OnePlus Nord CE 3 Lite 5G (Chromatic Gray, 8GB...   \n",
       "5          18,248  OnePlus Nord CE 3 Lite 5G (Chromatic Gray, 8GB...   \n",
       "6          17,490   Motorola g64 5G (Pearl Blue, 256 GB) (12 GB RAM)   \n",
       "7          12,999  Samsung Galaxy M34 5G (Waterfall Blue,6GB,128G...   \n",
       "8          17,749  OnePlus Nord CE 3 Lite 5G (Pastel Lime, 8GB RA...   \n",
       "9          12,435  Motorola G34 5G (Charcoal Black, 8GB RAM, 128G...   \n",
       "\n",
       "       mob_rating_list mob_rating_count_list mob_original_price_list  \n",
       "0  4.5 out of 5 stars.                     2                  26,999  \n",
       "1   5.0 out of 5 stars                    85                  19,999  \n",
       "2   4.2 out of 5 stars                47,280                  17,000  \n",
       "3   4.2 out of 5 stars                47,280                  19,999  \n",
       "4   4.2 out of 5 stars                    12                  19,621  \n",
       "5   3.3 out of 5 stars                 3,428                  18,248  \n",
       "6   4.0 out of 5 stars                47,280                  17,490  \n",
       "7   4.2 out of 5 stars                   138                  12,999  \n",
       "8   3.8 out of 5 stars                 5,214                  17,749  \n",
       "9   4.1 out of 5 stars                 6,365                  12,435  "
      ]
     },
     "execution_count": 47,
     "metadata": {},
     "output_type": "execute_result"
    }
   ],
   "source": [
    "df.head(10)"
   ]
  },
  {
   "cell_type": "markdown",
   "id": "ba7b7538",
   "metadata": {},
   "source": [
    "### 3.DISPLAY THE LAST FIVE ROWS IN THE DATASETS"
   ]
  },
  {
   "cell_type": "code",
   "execution_count": 48,
   "id": "9a09325f",
   "metadata": {},
   "outputs": [
    {
     "data": {
      "text/html": [
       "<div>\n",
       "<style scoped>\n",
       "    .dataframe tbody tr th:only-of-type {\n",
       "        vertical-align: middle;\n",
       "    }\n",
       "\n",
       "    .dataframe tbody tr th {\n",
       "        vertical-align: top;\n",
       "    }\n",
       "\n",
       "    .dataframe thead th {\n",
       "        text-align: right;\n",
       "    }\n",
       "</style>\n",
       "<table border=\"1\" class=\"dataframe\">\n",
       "  <thead>\n",
       "    <tr style=\"text-align: right;\">\n",
       "      <th></th>\n",
       "      <th>mob_prices_list</th>\n",
       "      <th>mob_description_list</th>\n",
       "      <th>mob_rating_list</th>\n",
       "      <th>mob_rating_count_list</th>\n",
       "      <th>mob_original_price_list</th>\n",
       "    </tr>\n",
       "  </thead>\n",
       "  <tbody>\n",
       "    <tr>\n",
       "      <th>10</th>\n",
       "      <td>19,269</td>\n",
       "      <td>Redmi 13C (Stardust Black, 6GB RAM, 128GB Stor...</td>\n",
       "      <td>4.1 out of 5 stars</td>\n",
       "      <td>305</td>\n",
       "      <td>19,269</td>\n",
       "    </tr>\n",
       "    <tr>\n",
       "      <th>11</th>\n",
       "      <td>19,998</td>\n",
       "      <td>OnePlus Nord CE 3 Lite 5G (Pastel Lime, 8GB RA...</td>\n",
       "      <td>4.0 out of 5 stars</td>\n",
       "      <td>61</td>\n",
       "      <td>19,998</td>\n",
       "    </tr>\n",
       "    <tr>\n",
       "      <th>12</th>\n",
       "      <td>14,399</td>\n",
       "      <td>POCO X6 5G (Snowstorm White, 12 GB RAM 256 GB ...</td>\n",
       "      <td>3.8 out of 5 stars</td>\n",
       "      <td>536</td>\n",
       "      <td>14,399</td>\n",
       "    </tr>\n",
       "    <tr>\n",
       "      <th>13</th>\n",
       "      <td>16,299</td>\n",
       "      <td>Samsung Galaxy F15 5G (Ash Black, 6GB RAM, 128...</td>\n",
       "      <td>3.6 out of 5 stars</td>\n",
       "      <td>11</td>\n",
       "      <td>16,299</td>\n",
       "    </tr>\n",
       "    <tr>\n",
       "      <th>14</th>\n",
       "      <td>6,999</td>\n",
       "      <td>Redmi Note 13 5G (Arctic White, 8GB RAM, 256GB...</td>\n",
       "      <td>4.7 out of 5 stars</td>\n",
       "      <td>803</td>\n",
       "      <td>6,999</td>\n",
       "    </tr>\n",
       "  </tbody>\n",
       "</table>\n",
       "</div>"
      ],
      "text/plain": [
       "   mob_prices_list                               mob_description_list  \\\n",
       "10          19,269  Redmi 13C (Stardust Black, 6GB RAM, 128GB Stor...   \n",
       "11          19,998  OnePlus Nord CE 3 Lite 5G (Pastel Lime, 8GB RA...   \n",
       "12          14,399  POCO X6 5G (Snowstorm White, 12 GB RAM 256 GB ...   \n",
       "13          16,299  Samsung Galaxy F15 5G (Ash Black, 6GB RAM, 128...   \n",
       "14           6,999  Redmi Note 13 5G (Arctic White, 8GB RAM, 256GB...   \n",
       "\n",
       "       mob_rating_list mob_rating_count_list mob_original_price_list  \n",
       "10  4.1 out of 5 stars                   305                  19,269  \n",
       "11  4.0 out of 5 stars                    61                  19,998  \n",
       "12  3.8 out of 5 stars                   536                  14,399  \n",
       "13  3.6 out of 5 stars                    11                  16,299  \n",
       "14  4.7 out of 5 stars                   803                   6,999  "
      ]
     },
     "execution_count": 48,
     "metadata": {},
     "output_type": "execute_result"
    }
   ],
   "source": [
    "df.tail(5)"
   ]
  },
  {
   "cell_type": "markdown",
   "id": "74c94a81",
   "metadata": {},
   "source": [
    "### 4.DISPLAY THE ANY RANDOM VALUE IN THE DATASETS"
   ]
  },
  {
   "cell_type": "code",
   "execution_count": 49,
   "id": "bb2a66ee",
   "metadata": {},
   "outputs": [
    {
     "data": {
      "text/html": [
       "<div>\n",
       "<style scoped>\n",
       "    .dataframe tbody tr th:only-of-type {\n",
       "        vertical-align: middle;\n",
       "    }\n",
       "\n",
       "    .dataframe tbody tr th {\n",
       "        vertical-align: top;\n",
       "    }\n",
       "\n",
       "    .dataframe thead th {\n",
       "        text-align: right;\n",
       "    }\n",
       "</style>\n",
       "<table border=\"1\" class=\"dataframe\">\n",
       "  <thead>\n",
       "    <tr style=\"text-align: right;\">\n",
       "      <th></th>\n",
       "      <th>mob_prices_list</th>\n",
       "      <th>mob_description_list</th>\n",
       "      <th>mob_rating_list</th>\n",
       "      <th>mob_rating_count_list</th>\n",
       "      <th>mob_original_price_list</th>\n",
       "    </tr>\n",
       "  </thead>\n",
       "  <tbody>\n",
       "    <tr>\n",
       "      <th>10</th>\n",
       "      <td>19,269</td>\n",
       "      <td>Redmi 13C (Stardust Black, 6GB RAM, 128GB Stor...</td>\n",
       "      <td>4.1 out of 5 stars</td>\n",
       "      <td>305</td>\n",
       "      <td>19,269</td>\n",
       "    </tr>\n",
       "  </tbody>\n",
       "</table>\n",
       "</div>"
      ],
      "text/plain": [
       "   mob_prices_list                               mob_description_list  \\\n",
       "10          19,269  Redmi 13C (Stardust Black, 6GB RAM, 128GB Stor...   \n",
       "\n",
       "       mob_rating_list mob_rating_count_list mob_original_price_list  \n",
       "10  4.1 out of 5 stars                   305                  19,269  "
      ]
     },
     "execution_count": 49,
     "metadata": {},
     "output_type": "execute_result"
    }
   ],
   "source": [
    "df.sample()"
   ]
  },
  {
   "cell_type": "markdown",
   "id": "bc400c59",
   "metadata": {},
   "source": [
    "### 5.DISPLAY THE COUNT OF RECORDS IN EACH COLOUM OF THE DATASETS"
   ]
  },
  {
   "cell_type": "code",
   "execution_count": 50,
   "id": "83314c3d",
   "metadata": {},
   "outputs": [
    {
     "data": {
      "text/plain": [
       "mob_prices_list            15\n",
       "mob_description_list       15\n",
       "mob_rating_list            15\n",
       "mob_rating_count_list      15\n",
       "mob_original_price_list    15\n",
       "dtype: int64"
      ]
     },
     "execution_count": 50,
     "metadata": {},
     "output_type": "execute_result"
    }
   ],
   "source": [
    "df.count()"
   ]
  },
  {
   "cell_type": "markdown",
   "id": "47e49345",
   "metadata": {},
   "source": [
    "### 6.DISPLAY THE MINIMUM VALUE OF RECORDS IN EACH COLOUM OF THE DATASETS"
   ]
  },
  {
   "cell_type": "code",
   "execution_count": 51,
   "id": "595caefc",
   "metadata": {},
   "outputs": [
    {
     "data": {
      "text/plain": [
       "mob_prices_list                                                       12,435\n",
       "mob_description_list       Motorola G34 5G (Charcoal Black, 8GB RAM, 128G...\n",
       "mob_rating_list                                           3.3 out of 5 stars\n",
       "mob_rating_count_list                                                     11\n",
       "mob_original_price_list                                               12,435\n",
       "dtype: object"
      ]
     },
     "execution_count": 51,
     "metadata": {},
     "output_type": "execute_result"
    }
   ],
   "source": [
    "df.min()"
   ]
  },
  {
   "cell_type": "markdown",
   "id": "8f386dca",
   "metadata": {},
   "source": [
    "### 7.DISPLAY THE MAXIMUM VALUE OF RECORDS IN EACH COLOUM OF THE DATASETS."
   ]
  },
  {
   "cell_type": "code",
   "execution_count": 52,
   "id": "95d9f9d8",
   "metadata": {},
   "outputs": [
    {
     "data": {
      "text/plain": [
       "mob_prices_list                                                        6,999\n",
       "mob_description_list       realme 12 5G (Woodland Green, 8GB RAM 128 GB S...\n",
       "mob_rating_list                                           5.0 out of 5 stars\n",
       "mob_rating_count_list                                                     85\n",
       "mob_original_price_list                                                6,999\n",
       "dtype: object"
      ]
     },
     "execution_count": 52,
     "metadata": {},
     "output_type": "execute_result"
    }
   ],
   "source": [
    "df.max()"
   ]
  },
  {
   "cell_type": "markdown",
   "id": "19f1ab0e",
   "metadata": {},
   "source": [
    "### 8.CHECK THE MISSING VALUE IN THE DATASETS"
   ]
  },
  {
   "cell_type": "code",
   "execution_count": 53,
   "id": "3fd01ea3",
   "metadata": {},
   "outputs": [
    {
     "data": {
      "text/plain": [
       "mob_prices_list            0\n",
       "mob_description_list       0\n",
       "mob_rating_list            0\n",
       "mob_rating_count_list      0\n",
       "mob_original_price_list    0\n",
       "dtype: int64"
      ]
     },
     "execution_count": 53,
     "metadata": {},
     "output_type": "execute_result"
    }
   ],
   "source": [
    "df.isnull().sum()"
   ]
  },
  {
   "cell_type": "markdown",
   "id": "09ed76b7",
   "metadata": {},
   "source": [
    "### 9.DISPLAY THE LAST ONE ROWS IN THE DATASETS"
   ]
  },
  {
   "cell_type": "code",
   "execution_count": 54,
   "id": "ab549f6b",
   "metadata": {},
   "outputs": [
    {
     "data": {
      "text/html": [
       "<div>\n",
       "<style scoped>\n",
       "    .dataframe tbody tr th:only-of-type {\n",
       "        vertical-align: middle;\n",
       "    }\n",
       "\n",
       "    .dataframe tbody tr th {\n",
       "        vertical-align: top;\n",
       "    }\n",
       "\n",
       "    .dataframe thead th {\n",
       "        text-align: right;\n",
       "    }\n",
       "</style>\n",
       "<table border=\"1\" class=\"dataframe\">\n",
       "  <thead>\n",
       "    <tr style=\"text-align: right;\">\n",
       "      <th></th>\n",
       "      <th>mob_prices_list</th>\n",
       "      <th>mob_description_list</th>\n",
       "      <th>mob_rating_list</th>\n",
       "      <th>mob_rating_count_list</th>\n",
       "      <th>mob_original_price_list</th>\n",
       "    </tr>\n",
       "  </thead>\n",
       "  <tbody>\n",
       "    <tr>\n",
       "      <th>14</th>\n",
       "      <td>6,999</td>\n",
       "      <td>Redmi Note 13 5G (Arctic White, 8GB RAM, 256GB...</td>\n",
       "      <td>4.7 out of 5 stars</td>\n",
       "      <td>803</td>\n",
       "      <td>6,999</td>\n",
       "    </tr>\n",
       "  </tbody>\n",
       "</table>\n",
       "</div>"
      ],
      "text/plain": [
       "   mob_prices_list                               mob_description_list  \\\n",
       "14           6,999  Redmi Note 13 5G (Arctic White, 8GB RAM, 256GB...   \n",
       "\n",
       "       mob_rating_list mob_rating_count_list mob_original_price_list  \n",
       "14  4.7 out of 5 stars                   803                   6,999  "
      ]
     },
     "execution_count": 54,
     "metadata": {},
     "output_type": "execute_result"
    }
   ],
   "source": [
    "df.tail(1)"
   ]
  },
  {
   "cell_type": "markdown",
   "id": "83468a8c",
   "metadata": {},
   "source": [
    "### 10.DISPLAY THE FIRST ONE ROWS IN THE DATASETS"
   ]
  },
  {
   "cell_type": "code",
   "execution_count": 55,
   "id": "f573cd09",
   "metadata": {},
   "outputs": [
    {
     "data": {
      "text/html": [
       "<div>\n",
       "<style scoped>\n",
       "    .dataframe tbody tr th:only-of-type {\n",
       "        vertical-align: middle;\n",
       "    }\n",
       "\n",
       "    .dataframe tbody tr th {\n",
       "        vertical-align: top;\n",
       "    }\n",
       "\n",
       "    .dataframe thead th {\n",
       "        text-align: right;\n",
       "    }\n",
       "</style>\n",
       "<table border=\"1\" class=\"dataframe\">\n",
       "  <thead>\n",
       "    <tr style=\"text-align: right;\">\n",
       "      <th></th>\n",
       "      <th>mob_prices_list</th>\n",
       "      <th>mob_description_list</th>\n",
       "      <th>mob_rating_list</th>\n",
       "      <th>mob_rating_count_list</th>\n",
       "      <th>mob_original_price_list</th>\n",
       "    </tr>\n",
       "  </thead>\n",
       "  <tbody>\n",
       "    <tr>\n",
       "      <th>0</th>\n",
       "      <td>26,999</td>\n",
       "      <td>Redmi note 13 pro 5g scarlet red 8gb 256gb</td>\n",
       "      <td>4.5 out of 5 stars.</td>\n",
       "      <td>2</td>\n",
       "      <td>26,999</td>\n",
       "    </tr>\n",
       "  </tbody>\n",
       "</table>\n",
       "</div>"
      ],
      "text/plain": [
       "  mob_prices_list                        mob_description_list  \\\n",
       "0          26,999  Redmi note 13 pro 5g scarlet red 8gb 256gb   \n",
       "\n",
       "       mob_rating_list mob_rating_count_list mob_original_price_list  \n",
       "0  4.5 out of 5 stars.                     2                  26,999  "
      ]
     },
     "execution_count": 55,
     "metadata": {},
     "output_type": "execute_result"
    }
   ],
   "source": [
    "df.head(1)"
   ]
  },
  {
   "cell_type": "code",
   "execution_count": 57,
   "id": "1cfdc25b",
   "metadata": {},
   "outputs": [
    {
     "data": {
      "text/html": [
       "<div>\n",
       "<style scoped>\n",
       "    .dataframe tbody tr th:only-of-type {\n",
       "        vertical-align: middle;\n",
       "    }\n",
       "\n",
       "    .dataframe tbody tr th {\n",
       "        vertical-align: top;\n",
       "    }\n",
       "\n",
       "    .dataframe thead th {\n",
       "        text-align: right;\n",
       "    }\n",
       "</style>\n",
       "<table border=\"1\" class=\"dataframe\">\n",
       "  <thead>\n",
       "    <tr style=\"text-align: right;\">\n",
       "      <th></th>\n",
       "      <th>mob_prices_list</th>\n",
       "      <th>mob_description_list</th>\n",
       "      <th>mob_rating_list</th>\n",
       "      <th>mob_rating_count_list</th>\n",
       "      <th>mob_original_price_list</th>\n",
       "    </tr>\n",
       "  </thead>\n",
       "  <tbody>\n",
       "    <tr>\n",
       "      <th>0</th>\n",
       "      <td>26,999</td>\n",
       "      <td>Redmi note 13 pro 5g scarlet red 8gb 256gb</td>\n",
       "      <td>4.5 out of 5 stars.</td>\n",
       "      <td>2</td>\n",
       "      <td>26,999</td>\n",
       "    </tr>\n",
       "    <tr>\n",
       "      <th>1</th>\n",
       "      <td>19,999</td>\n",
       "      <td>OnePlus Nord CE4 Lite 5G (Super Silver, 8GB RA...</td>\n",
       "      <td>5.0 out of 5 stars</td>\n",
       "      <td>85</td>\n",
       "      <td>19,999</td>\n",
       "    </tr>\n",
       "    <tr>\n",
       "      <th>2</th>\n",
       "      <td>17,000</td>\n",
       "      <td>realme 12 5G (Woodland Green, 8GB RAM 128 GB S...</td>\n",
       "      <td>4.2 out of 5 stars</td>\n",
       "      <td>47,280</td>\n",
       "      <td>17,000</td>\n",
       "    </tr>\n",
       "    <tr>\n",
       "      <th>3</th>\n",
       "      <td>19,999</td>\n",
       "      <td>OnePlus Nord CE4 Lite 5G (Mega Blue, 8GB RAM, ...</td>\n",
       "      <td>4.2 out of 5 stars</td>\n",
       "      <td>47,280</td>\n",
       "      <td>19,999</td>\n",
       "    </tr>\n",
       "    <tr>\n",
       "      <th>4</th>\n",
       "      <td>19,621</td>\n",
       "      <td>OnePlus Nord CE 3 Lite 5G (Chromatic Gray, 8GB...</td>\n",
       "      <td>4.2 out of 5 stars</td>\n",
       "      <td>12</td>\n",
       "      <td>19,621</td>\n",
       "    </tr>\n",
       "    <tr>\n",
       "      <th>5</th>\n",
       "      <td>18,248</td>\n",
       "      <td>OnePlus Nord CE 3 Lite 5G (Chromatic Gray, 8GB...</td>\n",
       "      <td>3.3 out of 5 stars</td>\n",
       "      <td>3,428</td>\n",
       "      <td>18,248</td>\n",
       "    </tr>\n",
       "    <tr>\n",
       "      <th>6</th>\n",
       "      <td>17,490</td>\n",
       "      <td>Motorola g64 5G (Pearl Blue, 256 GB) (12 GB RAM)</td>\n",
       "      <td>4.0 out of 5 stars</td>\n",
       "      <td>47,280</td>\n",
       "      <td>17,490</td>\n",
       "    </tr>\n",
       "    <tr>\n",
       "      <th>7</th>\n",
       "      <td>12,999</td>\n",
       "      <td>Samsung Galaxy M34 5G (Waterfall Blue,6GB,128G...</td>\n",
       "      <td>4.2 out of 5 stars</td>\n",
       "      <td>138</td>\n",
       "      <td>12,999</td>\n",
       "    </tr>\n",
       "    <tr>\n",
       "      <th>8</th>\n",
       "      <td>17,749</td>\n",
       "      <td>OnePlus Nord CE 3 Lite 5G (Pastel Lime, 8GB RA...</td>\n",
       "      <td>3.8 out of 5 stars</td>\n",
       "      <td>5,214</td>\n",
       "      <td>17,749</td>\n",
       "    </tr>\n",
       "    <tr>\n",
       "      <th>9</th>\n",
       "      <td>12,435</td>\n",
       "      <td>Motorola G34 5G (Charcoal Black, 8GB RAM, 128G...</td>\n",
       "      <td>4.1 out of 5 stars</td>\n",
       "      <td>6,365</td>\n",
       "      <td>12,435</td>\n",
       "    </tr>\n",
       "    <tr>\n",
       "      <th>10</th>\n",
       "      <td>19,269</td>\n",
       "      <td>Redmi 13C (Stardust Black, 6GB RAM, 128GB Stor...</td>\n",
       "      <td>4.1 out of 5 stars</td>\n",
       "      <td>305</td>\n",
       "      <td>19,269</td>\n",
       "    </tr>\n",
       "    <tr>\n",
       "      <th>11</th>\n",
       "      <td>19,998</td>\n",
       "      <td>OnePlus Nord CE 3 Lite 5G (Pastel Lime, 8GB RA...</td>\n",
       "      <td>4.0 out of 5 stars</td>\n",
       "      <td>61</td>\n",
       "      <td>19,998</td>\n",
       "    </tr>\n",
       "    <tr>\n",
       "      <th>12</th>\n",
       "      <td>14,399</td>\n",
       "      <td>POCO X6 5G (Snowstorm White, 12 GB RAM 256 GB ...</td>\n",
       "      <td>3.8 out of 5 stars</td>\n",
       "      <td>536</td>\n",
       "      <td>14,399</td>\n",
       "    </tr>\n",
       "    <tr>\n",
       "      <th>13</th>\n",
       "      <td>16,299</td>\n",
       "      <td>Samsung Galaxy F15 5G (Ash Black, 6GB RAM, 128...</td>\n",
       "      <td>3.6 out of 5 stars</td>\n",
       "      <td>11</td>\n",
       "      <td>16,299</td>\n",
       "    </tr>\n",
       "    <tr>\n",
       "      <th>14</th>\n",
       "      <td>6,999</td>\n",
       "      <td>Redmi Note 13 5G (Arctic White, 8GB RAM, 256GB...</td>\n",
       "      <td>4.7 out of 5 stars</td>\n",
       "      <td>803</td>\n",
       "      <td>6,999</td>\n",
       "    </tr>\n",
       "  </tbody>\n",
       "</table>\n",
       "</div>"
      ],
      "text/plain": [
       "   mob_prices_list                               mob_description_list  \\\n",
       "0           26,999         Redmi note 13 pro 5g scarlet red 8gb 256gb   \n",
       "1           19,999  OnePlus Nord CE4 Lite 5G (Super Silver, 8GB RA...   \n",
       "2           17,000  realme 12 5G (Woodland Green, 8GB RAM 128 GB S...   \n",
       "3           19,999  OnePlus Nord CE4 Lite 5G (Mega Blue, 8GB RAM, ...   \n",
       "4           19,621  OnePlus Nord CE 3 Lite 5G (Chromatic Gray, 8GB...   \n",
       "5           18,248  OnePlus Nord CE 3 Lite 5G (Chromatic Gray, 8GB...   \n",
       "6           17,490   Motorola g64 5G (Pearl Blue, 256 GB) (12 GB RAM)   \n",
       "7           12,999  Samsung Galaxy M34 5G (Waterfall Blue,6GB,128G...   \n",
       "8           17,749  OnePlus Nord CE 3 Lite 5G (Pastel Lime, 8GB RA...   \n",
       "9           12,435  Motorola G34 5G (Charcoal Black, 8GB RAM, 128G...   \n",
       "10          19,269  Redmi 13C (Stardust Black, 6GB RAM, 128GB Stor...   \n",
       "11          19,998  OnePlus Nord CE 3 Lite 5G (Pastel Lime, 8GB RA...   \n",
       "12          14,399  POCO X6 5G (Snowstorm White, 12 GB RAM 256 GB ...   \n",
       "13          16,299  Samsung Galaxy F15 5G (Ash Black, 6GB RAM, 128...   \n",
       "14           6,999  Redmi Note 13 5G (Arctic White, 8GB RAM, 256GB...   \n",
       "\n",
       "        mob_rating_list mob_rating_count_list mob_original_price_list  \n",
       "0   4.5 out of 5 stars.                     2                  26,999  \n",
       "1    5.0 out of 5 stars                    85                  19,999  \n",
       "2    4.2 out of 5 stars                47,280                  17,000  \n",
       "3    4.2 out of 5 stars                47,280                  19,999  \n",
       "4    4.2 out of 5 stars                    12                  19,621  \n",
       "5    3.3 out of 5 stars                 3,428                  18,248  \n",
       "6    4.0 out of 5 stars                47,280                  17,490  \n",
       "7    4.2 out of 5 stars                   138                  12,999  \n",
       "8    3.8 out of 5 stars                 5,214                  17,749  \n",
       "9    4.1 out of 5 stars                 6,365                  12,435  \n",
       "10   4.1 out of 5 stars                   305                  19,269  \n",
       "11   4.0 out of 5 stars                    61                  19,998  \n",
       "12   3.8 out of 5 stars                   536                  14,399  \n",
       "13   3.6 out of 5 stars                    11                  16,299  \n",
       "14   4.7 out of 5 stars                   803                   6,999  "
      ]
     },
     "execution_count": 57,
     "metadata": {},
     "output_type": "execute_result"
    }
   ],
   "source": [
    "df"
   ]
  },
  {
   "cell_type": "markdown",
   "id": "3c660d77",
   "metadata": {},
   "source": [
    "<img src=\"https://t4.ftcdn.net/jpg/05/33/33/35/360_F_533333591_z3CPyLiiFqMoHv6nLj137Byph2l4gFuU.jpg\">"
   ]
  },
  {
   "cell_type": "code",
   "execution_count": null,
   "id": "032eecd3",
   "metadata": {},
   "outputs": [],
   "source": []
  }
 ],
 "metadata": {
  "kernelspec": {
   "display_name": "Python 3 (ipykernel)",
   "language": "python",
   "name": "python3"
  },
  "language_info": {
   "codemirror_mode": {
    "name": "ipython",
    "version": 3
   },
   "file_extension": ".py",
   "mimetype": "text/x-python",
   "name": "python",
   "nbconvert_exporter": "python",
   "pygments_lexer": "ipython3",
   "version": "3.11.7"
  }
 },
 "nbformat": 4,
 "nbformat_minor": 5
}
